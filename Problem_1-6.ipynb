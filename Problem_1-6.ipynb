{
 "cells": [
  {
   "cell_type": "markdown",
   "id": "2b9e6b9b",
   "metadata": {},
   "source": [
    "## <u>【問題1】べき乗の算術演算子を使用した実装<u>"
   ]
  },
  {
   "cell_type": "code",
   "execution_count": 1,
   "id": "be6f5cf6",
   "metadata": {},
   "outputs": [
    {
     "name": "stdout",
     "output_type": "stream",
     "text": [
      "厚さ： 703687441.77664メートル\n"
     ]
    }
   ],
   "source": [
    "# 紙の厚さ\n",
    "THICKNESS = 0.00008\n",
    "\n",
    "# 折られた紙の厚さ\n",
    "folded_thickness = THICKNESS\n",
    "\n",
    "# 紙を1回折った時の厚さを計算するコード\n",
    "# folded_thickness = THICKNESS * 2\n",
    "\n",
    "# 43回を指定\n",
    "number_of_folding = 43\n",
    "\n",
    "# 折られた紙の厚さを求める計算式\n",
    "folded_thickness = THICKNESS * (2 ** number_of_folding)\n",
    "\n",
    "# 結果の表示\n",
    "print(\"厚さ： {}メートル\".format(folded_thickness))"
   ]
  },
  {
   "cell_type": "markdown",
   "id": "be95b24f",
   "metadata": {},
   "source": [
    "## <u>【問題2】単位の変換<u>"
   ]
  },
  {
   "cell_type": "code",
   "execution_count": 2,
   "id": "c2cd24c0",
   "metadata": {},
   "outputs": [
    {
     "name": "stdout",
     "output_type": "stream",
     "text": [
      "厚さ : 70.37万キロメートル\n"
     ]
    }
   ],
   "source": [
    "# メートルを万キロメートルに変換して表示\n",
    "print('厚さ : {:.2f}万キロメートル'.format(folded_thickness / 10 ** 7))"
   ]
  },
  {
   "cell_type": "markdown",
   "id": "f5127b7e",
   "metadata": {},
   "source": [
    "## <u>【問題3】for文を使用して作成<u>"
   ]
  },
  {
   "cell_type": "code",
   "execution_count": 3,
   "id": "af076192",
   "metadata": {},
   "outputs": [
    {
     "name": "stdout",
     "output_type": "stream",
     "text": [
      "厚さ : 70.37万キロメートル\n"
     ]
    }
   ],
   "source": [
    "# 折られた紙の厚さ\n",
    "folded_thickness = THICKNESS\n",
    "\n",
    "# 折られた紙の厚さを求める計算式(for文での実行)\n",
    "for number in range(number_of_folding):\n",
    "\tfolded_thickness = folded_thickness * 2\n",
    "    \n",
    "# メートルを万キロメートルに変換\n",
    "print('厚さ : {:.2f}万キロメートル'.format(folded_thickness / 10 ** 7))"
   ]
  },
  {
   "cell_type": "markdown",
   "id": "e0a4a61e",
   "metadata": {},
   "source": [
    "## <u>【問題4】計算時間の比較<u>"
   ]
  },
  {
   "cell_type": "code",
   "execution_count": 4,
   "id": "ba4566f9",
   "metadata": {},
   "outputs": [
    {
     "name": "stdout",
     "output_type": "stream",
     "text": [
      "べき乗の場合の計算速度 : 0.0001010894775390625[s]\n",
      "for文の場合の計算速度 : 5.698204040527344e-05[s]\n"
     ]
    }
   ],
   "source": [
    "# モジュールのインポート\n",
    "import time\n",
    "\n",
    "# 開始時刻の設定\n",
    "start1 = time.time()\n",
    "\n",
    "# 折られた紙の厚さを求める計算式\n",
    "folded_thickness = THICKNESS * (2 ** number_of_folding)\n",
    "\n",
    "# 経過時間の測定\n",
    "elapsed_time1 = time.time() - start1\n",
    "\n",
    "# 折られた紙の厚さのリセット\n",
    "folded_thickness = THICKNESS\n",
    "\n",
    "# 開始時刻の設定\n",
    "start2 = time.time()\n",
    "\n",
    "# 折られた紙の厚さを求める計算式(for文での実行)\n",
    "for number in range(number_of_folding):\n",
    "\tfolded_thickness = folded_thickness * 2\n",
    "\n",
    "# 経過時間の測定\n",
    "elapsed_time2 = time.time() - start2\n",
    "\n",
    "# 経過時間の表示\n",
    "print('べき乗の場合の計算速度 : {}[s]'.format(elapsed_time1))\n",
    "print('for文の場合の計算速度 : {}[s]'.format(elapsed_time2))"
   ]
  },
  {
   "cell_type": "markdown",
   "id": "54cb1b24",
   "metadata": {},
   "source": [
    "## <u>【問題5】リストへの保存<u>"
   ]
  },
  {
   "cell_type": "code",
   "execution_count": 5,
   "id": "8f1a5ecf",
   "metadata": {},
   "outputs": [
    {
     "name": "stdout",
     "output_type": "stream",
     "text": [
      "44\n"
     ]
    }
   ],
   "source": [
    "# 空のリストを作成+初期値の追加\n",
    "folded_thickness_list = [THICKNESS]\n",
    "\n",
    "# 折られた紙の厚さを求める計算式(for文での実行)\n",
    "for number in range(number_of_folding):\n",
    "\tfolded_thickness = folded_thickness * 2\n",
    "\tfolded_thickness_list.append(folded_thickness)\n",
    "\n",
    "# 格納数の確認\n",
    "print(len(folded_thickness_list))"
   ]
  },
  {
   "cell_type": "markdown",
   "id": "5ef94522",
   "metadata": {},
   "source": [
    "## <u>【問題6】折れ線グラフの表示<u>"
   ]
  },
  {
   "cell_type": "code",
   "execution_count": 6,
   "id": "b828e307",
   "metadata": {},
   "outputs": [
    {
     "data": {
      "image/png": "[encoded data removed]",
      "text/plain": [
       "<Figure size 432x288 with 1 Axes>"
      ]
     },
     "metadata": {
      "needs_background": "light"
     },
     "output_type": "display_data"
    }
   ],
   "source": [
    "# matplotlibのインポート\n",
    "import matplotlib.pyplot as plt\n",
    "\n",
    "# グラフを表示する。タイトルと軸ラベル名付き。\n",
    "plt.title(\"thickness of folded paper\")\n",
    "plt.xlabel(\"number of folds\")\n",
    "plt.ylabel(\"thickness [m]\")\n",
    "plt.plot(folded_thickness_list)\n",
    "plt.show()"
   ]
  }
 ],
 "metadata": {
  "kernelspec": {
   "display_name": "Python 3 (ipykernel)",
   "language": "python",
   "name": "python3"
  },
  "language_info": {
   "codemirror_mode": {
    "name": "ipython",
    "version": 3
   },
   "file_extension": ".py",
   "mimetype": "text/x-python",
   "name": "python",
   "nbconvert_exporter": "python",
   "pygments_lexer": "ipython3",
   "version": "3.9.5"
  }
 },
 "nbformat": 4,
 "nbformat_minor": 5
}
